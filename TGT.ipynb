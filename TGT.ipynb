{
 "cells": [
  {
   "cell_type": "markdown",
   "id": "ac3df40e",
   "metadata": {},
   "source": [
    "# Задание 1. \n",
    "Имеется отрезок длины L.\n",
    "- Написать алгоритм разбиения отрезка на более мелкие, при этом длина разбивающего отрезка должна увеличиваться от одного конца к другому.\n",
    "- - Считать, что стартовый разбивающий отрезок задан и имеет длину l, а каждый последующий увеличивается в q раз (q>1). \n",
    "- При каких значениях l, q возможно точное разбиение для заданного L?\n",
    "- - Если точное разбиение невозможно, написать алгоритм минимальной коррекции вводимых параметров l и q и обеспечить точное разбиение."
   ]
  },
  {
   "cell_type": "markdown",
   "id": "1b84f9d7",
   "metadata": {},
   "source": [
    "## Постановка задачи\n",
    "По сути подобное разбиение отрезка L явзяется ни чем иным, как геометрической последовательностью вида L = l*sum(q^i) где i=0:n, n пренадлежит N.\n",
    "Отсюда следует, что для того чтобы разбиение было возможно необходимо чтобы было возможным выполнение равенства суммы членов геометрической последовательности:\n",
    "- L = l*(1-q^n)/(1-q)\n",
    "\n",
    "Из этого равенства следует что:\n",
    "- L > 0 (необходимо иначе задача выраждается)\n",
    "- l > 0 (необходимо иначе равенство не будет выполнени)\n",
    "- q > 1 (дано по условию задания)\n",
    "\n",
    "Для решения второй части задания, а именно коррекции параметров l и q формамлизуем данную задачу, как задачу поиска параметров l, q и n таких, что расстояние между точками (l, q) и (l_optimal, q_optimal) былобы минимальным."
   ]
  },
  {
   "cell_type": "markdown",
   "id": "a0ae2dcf",
   "metadata": {},
   "source": [
    "## Решение\n",
    "### Загрузка библиотек"
   ]
  },
  {
   "cell_type": "code",
   "execution_count": 1,
   "id": "db693c4a",
   "metadata": {},
   "outputs": [],
   "source": [
    "import numpy as np\n",
    "from matplotlib import pyplot as plt\n",
    "import math\n",
    "import random\n",
    "import time\n",
    "from numba import jit\n",
    "from tqdm import tqdm"
   ]
  },
  {
   "cell_type": "markdown",
   "id": "e3d1d123",
   "metadata": {},
   "source": [
    "### Вспомогательные функции\n",
    "#### Основные функции модели"
   ]
  },
  {
   "cell_type": "code",
   "execution_count": 7,
   "id": "61646ca9-ddbb-4925-8466-dee61c49a3c6",
   "metadata": {},
   "outputs": [],
   "source": [
    "# Вычисление L\n",
    "# @jit\n",
    "def culc_L(l,q,n):\n",
    "    return l*((1-pow(q,n))/(1-q))\n",
    "\n",
    "# Вычисление l\n",
    "# @jit\n",
    "def culc_l(L,q,n):\n",
    "    return L*((1-q)/(1-pow(q,n)))\n",
    "\n",
    "# Вычисление n\n",
    "# @jit\n",
    "def culc_n(L,l,q):\n",
    "    return int(np.log(L*(q-1)+l)/np.log(q))\n",
    "\n",
    "# Поиск с измельчением сетки\n",
    "# @jit\n",
    "def clarifying_search(params_zero, params_amplitude, iterations, mutator, grid_num, weights):\n",
    "    params_previouse = params_zero[1:]\n",
    "    for i in range(iterations):\n",
    "        params_limits = param_border_modifier(params_previouse, params_amplitude)\n",
    "        tmp_rez = grid_searching (params_zero, params_previouse, params_limits, grid_num, weights)\n",
    "        if tmp_rez[1][0] < 0:\n",
    "            break\n",
    "        params_previouse = tmp_rez[1]\n",
    "        params_amplitude = (mutator*params_amplitude[0], \n",
    "                            mutator*params_amplitude[1], \n",
    "                            int(mutator*params_amplitude[2]))\n",
    "    # Поправка/уточнение решения за счёт l\n",
    "    l2 = params_previouse[0]*params_zero[0]/culc_L(params_previouse[0],\n",
    "                                                   params_previouse[1],\n",
    "                                                   params_previouse[2])\n",
    "    return (l2, params_previouse[1], params_previouse[2])\n",
    "\n",
    "# Грубый поиск по сетке\n",
    "# @jit\n",
    "def grid_searching (params_zero, params_previouse, params_limits, grid_num , weights):\n",
    "    # Создание сектки параметров на основании граничных значений и количества\n",
    "    tmp = grid_maker(params_limits,params_previouse, grid_num)\n",
    "    (l_grd, q_grd) = tmp[:2]\n",
    "    (l_steps, q_steps, n_steps) = tmp[2:]\n",
    "    # Хранилище ЦФ\n",
    "    best_func = 10E20\n",
    "    # Хранилище параметров\n",
    "    best_l_q_n = (-1., -1., -1.)\n",
    "    for n_grid in n_steps:\n",
    "        func = (weights[0]*np.abs(culc_L(l_grd,q_grd,n_grid) - params_zero[0]) + # ЦФ сближающая L и L*\n",
    "                weights[1]*np.abs(params_zero[1] - l_grd) + # ЦФ сближающая l и l*\n",
    "                weights[2]*np.abs(params_zero[2] - q_grd))  # ЦФ сближающая q и q*\n",
    "        idx = np.unravel_index(np.argmin(func, axis=None), func.shape)\n",
    "        if func[idx] < best_func:\n",
    "            best_l_q_n = (l_steps[idx[1]], q_steps[idx[0]], n_grid)\n",
    "            best_func = func[idx[0],idx[1]]\n",
    "    return (best_func,best_l_q_n)\n",
    "\n",
    "# Расчет новых граничных значений\n",
    "# @jit\n",
    "def param_border_modifier(best_param, amp_param):\n",
    "    # минимальная константа\n",
    "    eps = 10E-10\n",
    "    # определение новых граничных значений для l\n",
    "    l = best_param[0]\n",
    "    l_amp = amp_param[0]\n",
    "    l_min = np.max([eps, l - l_amp])\n",
    "    l_max = l_min + l_amp\n",
    "    # определение новых граничных значений для q\n",
    "    q = best_param[1]\n",
    "    q_amp = amp_param[1]\n",
    "    q_min = np.max([1 + eps, q - q_amp])\n",
    "    q_max = q_min + q_amp\n",
    "    # определение новых граничных значений для n\n",
    "    n = best_param[2]\n",
    "    n_amp = amp_param[2]\n",
    "    n_min = int(np.max([1, n - n_amp]))\n",
    "    n_max = n_min + int(n_amp)\n",
    "    # Возвращение списка новых граничных значений\n",
    "    return ((l_min,l_max), (q_min,q_max), (n_min,n_max))\n",
    "\n",
    "# Создание сетки\n",
    "# @jit\n",
    "def grid_maker(params_limits, params_previouse, grid_num):\n",
    "    step_treshhold = 10E-5\n",
    "    # Предельные значения и шаг сетки l\n",
    "    l_min, l_max = params_limits[0]\n",
    "    l_step = np.max([step_treshhold,(l_max-l_min)/grid_num])\n",
    "    # Предельные значения  и шаг сетки q\n",
    "    q_min, q_max = params_limits[1]\n",
    "    q_step = np.max([step_treshhold,(q_max-q_min)/grid_num])\n",
    "    # Предельные значения  и шаг сетки n\n",
    "    n_min, n_max = params_limits[2]\n",
    "    n_step = np.max([1,(n_max-n_min)/grid_num]).astype(int)\n",
    "    # Значения узлов сетки по каждому из параметров l,q,n\n",
    "    l_steps = np.arange(l_min, l_max, l_step)\n",
    "    q_steps = np.arange(q_min, q_max, q_step)\n",
    "    n_steps = np.arange(n_min, n_max, n_step)  \n",
    "    if params_previouse is None:\n",
    "        l_steps = np.unique( l_steps )\n",
    "        q_steps = np.unique( q_steps )\n",
    "        n_steps = np.unique( n_steps.astype(int) )\n",
    "    else:\n",
    "        l_steps = np.sort( np.unique( np.append(l_steps,params_previouse[0]) ) )\n",
    "        q_steps = np.sort( np.unique( np.append(q_steps,params_previouse[1]) ) )\n",
    "        n_steps = np.sort( np.unique( np.append(n_steps,params_previouse[2]).astype(int) ) )\n",
    "    # Сама сетка для l и q\n",
    "    l_grid, q_grid = np.meshgrid(l_steps, q_steps, sparse=True)\n",
    "    return l_grid, q_grid, l_steps, q_steps, n_steps"
   ]
  },
  {
   "cell_type": "markdown",
   "id": "8b18cef7",
   "metadata": {},
   "source": [
    "#### Функции для поиска оптимальных гиперпараметров модели"
   ]
  },
  {
   "cell_type": "code",
   "execution_count": 3,
   "id": "2d2290de",
   "metadata": {},
   "outputs": [],
   "source": [
    "# Генерация тестовых данных\n",
    "# @jit\n",
    "def make_test_data():\n",
    "    eps = 10E-10\n",
    "    params_limits = param_border_modifier((1,2,1), (10E4,10E3,50))\n",
    "    tmp = grid_maker(params_limits, None, 10)\n",
    "    l_steps = tmp[2]\n",
    "    q_steps = tmp[3]\n",
    "    n_steps = tmp[4]\n",
    "    test_data=[]\n",
    "    l_stp=-1\n",
    "    q_stp=-1\n",
    "    n_stp=-1\n",
    "    for l_val in l_steps:\n",
    "        if l_stp < 0:\n",
    "            l_stp = l_steps[1]-l_steps[0]\n",
    "        for q_val in q_steps:\n",
    "            if q_stp < 0:\n",
    "                q_stp = q_steps[1]-q_steps[0]\n",
    "            for n_val in n_steps:\n",
    "                if n_stp < 0:\n",
    "                    n_stp = n_steps[1]-n_steps[0]\n",
    "                L = culc_L(l_val,q_val,n_val)\n",
    "                if L<float(\"inf\"):\n",
    "                    l_noisy = np.max([eps, int(l_val + l_stp*(random.random()-0.5))])\n",
    "                    q_noisy = np.max([1+eps, int(q_val + q_stp*(random.random()-0.5))])\n",
    "                    abs_log_err = np.abs(np.log10(L)-np.log10(culc_L(l_noisy,q_noisy,n_val)))\n",
    "                    if 0.5 < abs_log_err < 2 :\n",
    "                        test_data.append((L,l_val,q_val,n_val,l_noisy,q_noisy))\n",
    "    test_data = np.array(test_data)\n",
    "    return test_data\n",
    "\n",
    "# Оценивание конкретной модели на качество на основании набора данных\n",
    "# @jit\n",
    "def scoring_custom_model2(test_data, optim_params):\n",
    "    iterations = optim_params[0] # = 10\n",
    "    mutator = optim_params[1] # = 0.9\n",
    "    grid_num = optim_params[2] # = 5\n",
    "    par_amp_l = optim_params[3][0] # = (100., 20., 10)\n",
    "    par_amp_q = optim_params[3][1]\n",
    "    par_amp_n = optim_params[3][2]\n",
    "    w_L = optim_params[4][0] # = [0.3,0.3,0.3]\n",
    "    w_l = optim_params[4][1]\n",
    "    w_q = optim_params[4][2]\n",
    "    return scoring_custom_model(\n",
    "        test_data, iterations, mutator, grid_num,\n",
    "        par_amp_l, par_amp_q, par_amp_n, w_L, w_l, w_q)\n",
    "\n",
    "# @jit\n",
    "def scoring_custom_model(\n",
    "    test_data, iterations, mutator, grid_num, \n",
    "    par_amp_l, par_amp_q, par_amp_n, w_L, w_l, w_q):\n",
    "    params_amplitude = (par_amp_l, par_amp_q, par_amp_n)\n",
    "    w = (w_L, w_l, w_q)\n",
    "    errors = np.zeros([test_data.shape[0], 4])\n",
    "    time_0 = time.time()\n",
    "    for i in range (test_data.shape[0]):\n",
    "        t_d = test_data[i,:]\n",
    "        L = t_d[0]\n",
    "        l = t_d[4]\n",
    "        q = t_d[5]\n",
    "        n = int(np.log(L*(q-1)+l)/np.log(q))\n",
    "        params_zero = (L, l, q, n)\n",
    "        rez = clarifying_search(params_zero, params_amplitude,\n",
    "                                iterations, mutator, grid_num, w)\n",
    "        errors[i,0] = np.abs(np.log(culc_L(rez[0],rez[1],rez[2])) - np.log(L))\n",
    "        errors[i,1] = np.abs(t_d[1]-rez[0])\n",
    "        errors[i,2] = np.abs(t_d[2]-rez[1])\n",
    "        errors[i,3] = np.abs(t_d[3]-rez[2])\n",
    "    time_elapsed = time.time()-time_0\n",
    "    rez0 = [time_elapsed]\n",
    "    rez0.extend(np.mean(errors,axis=0).tolist())\n",
    "    return rez0\n",
    "\n",
    "# # Поиск оптимальных весов\n",
    "# test_data = make_test_data()\n",
    "# print(test_data.shape[0])\n",
    "# iterations = 40 # < 40 optimal\n",
    "# mutator = 0.2 # <= 0.2 optimal\n",
    "# grid_num = 21 #21 < 35 optimal\n",
    "# params_amplitude = (15., 10., 5) # <= (50, 10, 5) optimal\n",
    "# weights = (0.74, 0.13, 0.13) # weights_L > 0.6 optimal\n",
    "# rezults_list = []\n",
    "# params_list = []\n",
    "# time1 = time.time()\n",
    "# goal_list = []\n",
    "# for amp_n in tqdm(params_amplitude_n):\n",
    "#     for amp_l in params_amplitude_l:\n",
    "#         for amp_q in params_amplitude_q:\n",
    "#             optim_params = (\n",
    "#                 iterations, # iterations\n",
    "#                 mutator, # mutator\n",
    "#                 grid_num, # grid_num\n",
    "#                 (amp_l, amp_q, amp_n), # params_amplitude\n",
    "#                 weights\n",
    "#             )\n",
    "#             params_list.append((amp_n, amp_l, amp_q))\n",
    "#             tmp = scoring_custom_model2(test_data, optim_params)\n",
    "#             rezults_list.append(tmp)\n",
    "#             goal_list.append(np.log(tmp[0]*tmp[2]*tmp[3]))\n",
    "\n",
    "# rezults_list = np.array(rezults_list)\n",
    "# params_list = np.array(params_list)\n",
    "# goal_list = np.array(goal_list)\n",
    "# idx = np.where(params_list[:,2]<=10)\n",
    "# idx2 = np.where( params_list[idx[0],1]<=50)\n",
    "# idx = idx[0][idx2]\n",
    "# i = 0\n",
    "# y = rezults_list[idx,i]\n",
    "# # y = rezults_list[idx,0]*rezults_list[idx,3]\n",
    "# plt.scatter(params_list[idx,0],y)\n",
    "# plt.show()\n",
    "# plt.scatter(params_list[idx,1],y)\n",
    "# plt.show()\n",
    "# plt.scatter(params_list[idx,2],y)\n",
    "# plt.show()"
   ]
  },
  {
   "cell_type": "markdown",
   "id": "6e16df0f",
   "metadata": {},
   "source": [
    "### Входные данные"
   ]
  },
  {
   "cell_type": "code",
   "execution_count": 4,
   "id": "19d7451e",
   "metadata": {},
   "outputs": [
    {
     "name": "stdout",
     "output_type": "stream",
     "text": [
      "L: 250.0\n",
      "l: 3.2\n",
      "q: 5.1\n"
     ]
    }
   ],
   "source": [
    "# Даны\n",
    "L = 250.\n",
    "l = 3.2\n",
    "q = 5.1\n",
    "print('L: ' + str(L) + '\\n' + 'l: ' + str(l) + '\\n' + 'q: ' + str(q))"
   ]
  },
  {
   "cell_type": "markdown",
   "id": "eee458db",
   "metadata": {},
   "source": [
    "### Коррекция l и q"
   ]
  },
  {
   "cell_type": "code",
   "execution_count": 5,
   "id": "2ac2034c",
   "metadata": {},
   "outputs": [
    {
     "name": "stdout",
     "output_type": "stream",
     "text": [
      "l_optim: 3.8294\n",
      "q_optim: 7.5333\n",
      "n_optim: 3\n"
     ]
    }
   ],
   "source": [
    "# Определение оптимальных l и q, а так же нахождение n\n",
    "n = culc_n(L,l,q)\n",
    "params_zero = (L, l, q, n)\n",
    "params_amplitude = (45., 10., 5)\n",
    "iterations = 30\n",
    "mutator = 0.15\n",
    "grid_num = 30\n",
    "weights = (0.74, 0.13, 0.13)\n",
    "(l_optim, q_optim, n_optim) =clarifying_search(params_zero, params_amplitude, iterations, mutator, grid_num, weights)\n",
    "print('l_optim: ' + str(np.round(l_optim,4)) + '\\n' +\n",
    "       'q_optim: ' + str(np.round(q_optim,4)) + '\\n' +\n",
    "        'n_optim: ' + str(n_optim))"
   ]
  },
  {
   "cell_type": "markdown",
   "id": "c5cfe0d7",
   "metadata": {},
   "source": [
    "### Разбиение на отрезки"
   ]
  },
  {
   "cell_type": "code",
   "execution_count": 20,
   "id": "7ab67760",
   "metadata": {},
   "outputs": [
    {
     "name": "stdout",
     "output_type": "stream",
     "text": [
      "Пусть отрезок L начинается от 0 и находится в положительной области и имеет координаты:\n",
      "[  0. 250.]\n",
      "Тогда, список координат отрезков разбиения следующий:\n",
      "[[  0.     3.83]\n",
      " [  3.83  32.68]\n",
      " [ 32.68 250.  ]]\n"
     ]
    }
   ],
   "source": [
    "print('Пусть отрезок L начинается от 0 и находится в положительной области и имеет координаты:')\n",
    "print(np.round(np.array((0,L)),2))\n",
    "segments_list = []\n",
    "previous_segment_end = 0.\n",
    "for n_iter in range(n_optim):\n",
    "    segmet_end = previous_segment_end + l_optim*q_optim**n_iter\n",
    "    segments_list.append((previous_segment_end, segmet_end))\n",
    "    previous_segment_end = segmet_end\n",
    "segments = np.array(segments_list)\n",
    "print('Тогда, список координат отрезков разбиения следующий:')\n",
    "print(np.round(segments,2))\n"
   ]
  },
  {
   "cell_type": "markdown",
   "id": "cd7df63c",
   "metadata": {},
   "source": [
    "# Задание 2.\n",
    "Имеется набор 𝑁 векторов из двумерного пространства. Известно, что x, y координаты M векторов равномерно распределены на [0,1], а концы других 𝑁−𝑀 векторов образуют в пространстве ℝ2 кривую вида 𝑥2/𝑎2 + 𝑦2/𝑏2 + 𝑛 = 1, где n - нормальный шум с нулевым средним и дисперсией ≪𝑎,𝑏. Метки классов выставлены случайно неверно в 5% случаев для каждого класса.\n",
    "- Необходимо разработать линейно-регрессионную модель, определяющая, к какому из двух классов принадлежит каждая точка из представленного множества.\n",
    "\n",
    "Замечание:\n",
    "- Алгоритм не должен опираться на априорные знания о виде описанной выше кривой."
   ]
  },
  {
   "cell_type": "markdown",
   "id": "ba952d18",
   "metadata": {},
   "source": [
    "## Постановка задачи\n",
    "Данную задачу можно переформулировать иначе:\n",
    "В думерном пространстве дано N точек пренадлежащих 2-м классм.\n",
    "Первому классу пренадлежат точки находящиеся квадрату в верхней правой четверти со стороной 1  и координатами вершин (0,0), (0,1), (1,1) и (1,0).\n",
    "\n",
    "Второму классу пренадлежат точки лежащие на элепсе с длиной a и шириной b со смещением n, где n имеет нормальное распределение с мат.ожиданием 0 и дисперсией ≪ min(𝑎,𝑏).\n",
    "Так же известно что метки классов выставлены с ошибкой в 5%.\n",
    "\n",
    "В качестве критерия пренадлежности к классу предлагается граничное значение:\n",
    "- x1,x2,...,x_m \n",
    "\n",
    "Необходимо:\n",
    "- Найти оптимальную прямую и минимальное количество точек переключения m, такие что ошибка на проверочной выборке была бы минимальной."
   ]
  },
  {
   "cell_type": "code",
   "execution_count": 231,
   "id": "a565efdf",
   "metadata": {},
   "outputs": [],
   "source": [
    "import numpy as np\n",
    "from matplotlib import pyplot as plt\n",
    "from sklearn.model_selection import train_test_split\n",
    "from sklearn import svm\n",
    "from sklearn.pipeline import make_pipeline\n",
    "from sklearn.preprocessing import StandardScaler\n",
    "from sklearn.datasets import make_classification\n",
    "from sklearn.metrics import f1_score"
   ]
  },
  {
   "cell_type": "code",
   "execution_count": 215,
   "id": "8de0dee6",
   "metadata": {},
   "outputs": [],
   "source": [
    "def ellipseM_x(y,a,b,n):\n",
    "    return a*(np.max([y*0, 1 - n - y**2/b**2], axis=0))**0.5\n",
    "\n",
    "def ellipseM_y(x,a,b,n):\n",
    "    return b*(np.max([x*0, 1 - n - x**2/a**2], axis=0))**0.5\n",
    "    \n",
    "def make_test_data(N_num= 1000, a= 4, b= 2, proportion= 0.5 , error_proportion= 0.05):\n",
    "    M_num = int(N_num*proportion)\n",
    "    M_num_prop_x = int(b/(a+b)*M_num)\n",
    "    M_num_prop_y = M_num - M_num_prop_x\n",
    "    M = np.zeros([M_num,3])\n",
    "    n_var = np.min([a,b])/9\n",
    "    n = np.random.normal(0, n_var, M_num)\n",
    "    rand_sign = 2*(np.random.uniform(0, 1, [M_num,1])>0.5).astype(int)-1 \n",
    "    rand_x = np.random.uniform(-a, a, M_num_prop_x)\n",
    "    M[:M_num_prop_x,:2] = rand_sign[:M_num_prop_x]*np.array([rand_x, ellipseM_y(rand_x,a,b,n[:M_num_prop_x])]).T\n",
    "    rand_y = np.random.uniform(-b, b, M_num_prop_y)\n",
    "    M[M_num_prop_x:,:2] = rand_sign[M_num_prop_x:]*np.array([ellipseM_x(rand_y,a,b,n[M_num_prop_x:]), rand_y]).T\n",
    "    M[:,2] = 1\n",
    "    M[np.random.choice(M_num, int(M_num*error_proportion)), 2] = 0\n",
    "    K_num = N_num - M_num\n",
    "    K = np.concatenate((np.random.uniform(0,1,[K_num,2]), np.zeros([K_num,1])), axis=1)    \n",
    "    K[np.random.choice(K_num, int(K_num*error_proportion)), 2] = 1\n",
    "    return np.concatenate((M, K), axis=0)"
   ]
  },
  {
   "cell_type": "code",
   "execution_count": 221,
   "id": "16282744",
   "metadata": {},
   "outputs": [
    {
     "data": {
      "image/png": "[encoded data removed]",
      "text/plain": [
       "<Figure size 432x288 with 1 Axes>"
      ]
     },
     "metadata": {
      "needs_background": "light"
     },
     "output_type": "display_data"
    },
    {
     "data": {
      "image/png": "[encoded data removed]",
      "text/plain": [
       "<Figure size 432x288 with 1 Axes>"
      ]
     },
     "metadata": {
      "needs_background": "light"
     },
     "output_type": "display_data"
    }
   ],
   "source": [
    "X = N[:,:2]\n",
    "y = N[:,2]\n",
    "N = make_test_data()\n",
    "plt.scatter(N[N[:,2]==0,0], N[N[:,2]==0,1])\n",
    "plt.scatter(N[N[:,2]==1,0], N[N[:,2]==1,1])\n",
    "plt.show()\n",
    "plt.hist(N[:,2],bins=2)\n",
    "plt.show()"
   ]
  },
  {
   "cell_type": "code",
   "execution_count": 232,
   "id": "f7ddfaa1",
   "metadata": {},
   "outputs": [],
   "source": [
    "X_train, X_test, y_train, y_test = train_test_split(X, y, stratify=y, test_size=1./3)"
   ]
  },
  {
   "cell_type": "code",
   "execution_count": 245,
   "id": "ab91999c",
   "metadata": {},
   "outputs": [
    {
     "data": {
      "text/plain": [
       "SVC(gamma='auto', kernel='poly')"
      ]
     },
     "execution_count": 245,
     "metadata": {},
     "output_type": "execute_result"
    }
   ],
   "source": [
    "C = 1.0  # = self._alpha in our algorithm\n",
    "model1 = svm.SVC(kernel='linear', C=C)\n",
    "model2 = svm.LinearSVC(C=C, max_iter=10000)\n",
    "model3 = svm.SVC(kernel='rbf', gamma=0.7, C=C)\n",
    "model4 = svm.SVC(kernel='poly', degree=3, gamma='auto', C=C)\n",
    "model1.fit(X_train, y_train)\n",
    "model2.fit(X_train, y_train)\n",
    "model3.fit(X_train, y_train)\n",
    "model4.fit(X_train, y_train)"
   ]
  },
  {
   "cell_type": "code",
   "execution_count": 246,
   "id": "b1121203",
   "metadata": {},
   "outputs": [
    {
     "name": "stdout",
     "output_type": "stream",
     "text": [
      "0.6345381526104418\n"
     ]
    },
    {
     "data": {
      "image/png": "[encoded data removed]",
      "text/plain": [
       "<Figure size 432x288 with 1 Axes>"
      ]
     },
     "metadata": {
      "needs_background": "light"
     },
     "output_type": "display_data"
    }
   ],
   "source": [
    "y_pred = model1.predict(X_test)\n",
    "print(f1_score(y_test, y_pred))\n",
    "plt.scatter(X_test[y_pred==0,0],X_test[y_pred==0,1])\n",
    "plt.scatter(X_test[y_pred==1,0],X_test[y_pred==1,1])\n",
    "plt.show()"
   ]
  },
  {
   "cell_type": "code",
   "execution_count": 248,
   "id": "a489d130",
   "metadata": {},
   "outputs": [
    {
     "name": "stdout",
     "output_type": "stream",
     "text": [
      "0.6282051282051282\n"
     ]
    },
    {
     "data": {
      "image/png": "[encoded data removed]",
      "text/plain": [
       "<Figure size 432x288 with 1 Axes>"
      ]
     },
     "metadata": {
      "needs_background": "light"
     },
     "output_type": "display_data"
    }
   ],
   "source": [
    "y_pred = model2.predict(X_test)\n",
    "print(f1_score(y_test, y_pred))\n",
    "plt.scatter(X_test[y_pred==0,0],X_test[y_pred==0,1])\n",
    "plt.scatter(X_test[y_pred==1,0],X_test[y_pred==1,1])\n",
    "plt.show()"
   ]
  },
  {
   "cell_type": "code",
   "execution_count": 249,
   "id": "00bf9433",
   "metadata": {},
   "outputs": [
    {
     "name": "stdout",
     "output_type": "stream",
     "text": [
      "0.9526627218934911\n"
     ]
    },
    {
     "data": {
      "image/png": "[encoded data removed]",
      "text/plain": [
       "<Figure size 432x288 with 1 Axes>"
      ]
     },
     "metadata": {
      "needs_background": "light"
     },
     "output_type": "display_data"
    }
   ],
   "source": [
    "y_pred = model3.predict(X_test)\n",
    "print(f1_score(y_test, y_pred))\n",
    "plt.scatter(X_test[y_pred==0,0],X_test[y_pred==0,1])\n",
    "plt.scatter(X_test[y_pred==1,0],X_test[y_pred==1,1])\n",
    "plt.show()"
   ]
  },
  {
   "cell_type": "code",
   "execution_count": 250,
   "id": "5bd91396",
   "metadata": {},
   "outputs": [
    {
     "name": "stdout",
     "output_type": "stream",
     "text": [
      "0.45454545454545453\n"
     ]
    },
    {
     "data": {
      "image/png": "[encoded data removed]",
      "text/plain": [
       "<Figure size 432x288 with 1 Axes>"
      ]
     },
     "metadata": {
      "needs_background": "light"
     },
     "output_type": "display_data"
    }
   ],
   "source": [
    "y_pred = model4.predict(X_test)\n",
    "print(f1_score(y_test, y_pred))\n",
    "plt.scatter(X_test[y_pred==0,0],X_test[y_pred==0,1])\n",
    "plt.scatter(X_test[y_pred==1,0],X_test[y_pred==1,1])\n",
    "plt.show()"
   ]
  },
  {
   "cell_type": "markdown",
   "id": "5526854d",
   "metadata": {},
   "source": [
    "## Задание 3.\n",
    "- Написать алгоритм генерации бинарного изображения, содержащее непересекающиеся произвольные (разной геометрии и размеров) треугольники и прямоугольники.\n",
    "- Необходимо распознать и повернуть все треугольники на изображении на 45 градусов относительно своих центров масс.\n",
    "- Учесть наличие пересечения поворачиваемых фигур: если поворот невозможен без пересечения, выдавать предупреждение.\n",
    "\n",
    "Замечание:\n",
    "- Запрещено пользоваться готовыми функциями из пакетов image processing."
   ]
  },
  {
   "cell_type": "code",
   "execution_count": null,
   "id": "3b58964b",
   "metadata": {},
   "outputs": [],
   "source": []
  },
  {
   "cell_type": "markdown",
   "id": "85832b76",
   "metadata": {},
   "source": [
    "## Задание 4.\n",
    "На сайте Мирового Центра Данных по Солнечно-Земной Физике (http://www.wdcb.ru/stp/solar/sunspots.ru.html) имеется датасет с ежедневными измерениями числа солнечных пятен. \n",
    "- На основе данных с 1944 г по наст. вр. необходимо создать и обучить предиктивную модель, выдающую прогноз числа солнечных пятен на сроки 1, 10 и 30 дней от требуемой даты.\n",
    "- Обосновать выбор модели и ее гиперпараметров и оценить качество полученных результатов"
   ]
  },
  {
   "cell_type": "markdown",
   "id": "7a89d9ed",
   "metadata": {},
   "source": [
    "## Данные\n",
    "- Daily total sunspot number:\n",
    "- - SunspotNumber \\ SN_d_tot_V2.0.csv\n",
    "- Monthly mean total sunspot number:\n",
    "- - SunspotNumber \\ SN_m_tot_V2.0.csv\n",
    "- Monthly smoothed (13-month) total sunspot number:\n",
    "- - SunspotNumber \\ SN_ms_tot_V2.0.csv\n",
    "- Yearly mean total sunspot number:\n",
    "- - SunspotNumber \\ SN_y_tot_V2.0.csv"
   ]
  },
  {
   "cell_type": "code",
   "execution_count": null,
   "id": "1518c93e",
   "metadata": {},
   "outputs": [],
   "source": []
  }
 ],
 "metadata": {
  "kernelspec": {
   "display_name": "Python 3 (ipykernel)",
   "language": "python",
   "name": "python3"
  },
  "language_info": {
   "codemirror_mode": {
    "name": "ipython",
    "version": 3
   },
   "file_extension": ".py",
   "mimetype": "text/x-python",
   "name": "python",
   "nbconvert_exporter": "python",
   "pygments_lexer": "ipython3",
   "version": "3.8.12"
  }
 },
 "nbformat": 4,
 "nbformat_minor": 5
}
